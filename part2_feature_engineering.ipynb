{
 "cells": [
  {
   "cell_type": "markdown",
   "id": "d379450a",
   "metadata": {},
   "source": [
    "## 1. Setup"
   ]
  },
  {
   "cell_type": "code",
   "execution_count": 1,
   "id": "f97312a9",
   "metadata": {},
   "outputs": [],
   "source": [
    "import pandas as pd\n",
    "import numpy as np\n",
    "import os\n",
    "from sklearn.model_selection import train_test_split\n",
    "from sklearn.ensemble import RandomForestClassifier\n",
    "import xgboost as xgb\n",
    "from sklearn.metrics import roc_auc_score\n",
    "from sklearn.impute import SimpleImputer"
   ]
  },
  {
   "cell_type": "markdown",
   "id": "c6a96b09",
   "metadata": {},
   "source": [
    "## 2. Data Loading"
   ]
  },
  {
   "cell_type": "code",
   "execution_count": null,
   "id": "25090299",
   "metadata": {},
   "outputs": [],
   "source": [
    "def load_data(file_path):\n",
    "    \n",
    "    return pd.read_csv(file_path, parse_dates=['timestamp'])"
   ]
  },
  {
   "cell_type": "markdown",
   "id": "400839c2",
   "metadata": {},
   "source": [
    "## 3. Feature Engineering"
   ]
  },
  {
   "cell_type": "code",
   "execution_count": null,
   "id": "ceee71e5",
   "metadata": {},
   "outputs": [],
   "source": [
    "def extract_rolling_features(df, window_size_seconds):\n",
    "\n",
    "    df_sorted = df.sort_values('timestamp')\n",
    "    df_indexed = df_sorted.set_index('timestamp')\n",
    "    \n",
    "    # 3. Calculate rolling mean and standard deviation\n",
    "    #    - First, create a rolling window object based on time:\n",
    "    rolling_window = df_indexed['heart_rate'].rolling(window=f'{window_size_seconds}s')\n",
    "    #    - Then calculate statistics on this window:\n",
    "    hr_mean = rolling_window.mean()\n",
    "    hr_std = rolling_window.std()\n",
    "    \n",
    "    # 4. Add the new columns back to the dataframe\n",
    "    df_indexed['hr_rolling_mean'] = hr_mean\n",
    "    df_indexed['hr_rolling_std'] = hr_std\n",
    "    \n",
    "    # 5. Reset index to bring timestamp back as a column\n",
    "    df_result = df_indexed.reset_index()\n",
    "    \n",
    "    # 6. Handle any NaN values (rolling calculations create NaNs at the beginning)\n",
    "    #    - You can use fillna, dropna, or other methods depending on your strategy\n",
    "    df_result = df_result.fillna(method='bfill')  # Example: backward fill\n",
    "    \n",
    "    # Placeholder return - replace with your implementation\n",
    "    return df_result"
   ]
  }
 ],
 "metadata": {
  "kernelspec": {
   "display_name": "Python 3",
   "language": "python",
   "name": "python3"
  },
  "language_info": {
   "codemirror_mode": {
    "name": "ipython",
    "version": 3
   },
   "file_extension": ".py",
   "mimetype": "text/x-python",
   "name": "python",
   "nbconvert_exporter": "python",
   "pygments_lexer": "ipython3",
   "version": "3.13.0"
  }
 },
 "nbformat": 4,
 "nbformat_minor": 5
}
