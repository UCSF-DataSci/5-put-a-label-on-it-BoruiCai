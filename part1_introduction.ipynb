{
 "cells": [
  {
   "cell_type": "code",
   "execution_count": 1,
   "id": "19e0ccec",
   "metadata": {},
   "outputs": [
    {
     "name": "stdout",
     "output_type": "stream",
     "text": [
      "Requirement already satisfied: pandas<3.0,>=1.5 in c:\\users\\cbr98\\appdata\\local\\programs\\python\\python313\\lib\\site-packages (from -r requirements.txt (line 2)) (2.2.3)\n",
      "Requirement already satisfied: numpy<3.0,>=1.20 in c:\\users\\cbr98\\appdata\\local\\programs\\python\\python313\\lib\\site-packages (from -r requirements.txt (line 3)) (2.1.2)\n",
      "Requirement already satisfied: scikit-learn<2.0,>=1.0 in c:\\users\\cbr98\\appdata\\local\\programs\\python\\python313\\lib\\site-packages (from -r requirements.txt (line 4)) (1.5.2)\n",
      "Collecting xgboost<3.0,>=1.5 (from -r requirements.txt (line 5))\n",
      "  Downloading xgboost-2.1.4-py3-none-win_amd64.whl.metadata (2.1 kB)\n",
      "Collecting imbalanced-learn<1.0,>=0.9 (from -r requirements.txt (line 6))\n",
      "  Downloading imbalanced_learn-0.13.0-py3-none-any.whl.metadata (8.8 kB)\n",
      "Requirement already satisfied: matplotlib<4.0,>=3.5 in c:\\users\\cbr98\\appdata\\local\\programs\\python\\python313\\lib\\site-packages (from -r requirements.txt (line 7)) (3.9.2)\n",
      "Requirement already satisfied: seaborn<1.0,>=0.11 in c:\\users\\cbr98\\appdata\\local\\programs\\python\\python313\\lib\\site-packages (from -r requirements.txt (line 8)) (0.13.2)\n",
      "Requirement already satisfied: ipykernel in c:\\users\\cbr98\\appdata\\roaming\\python\\python313\\site-packages (from -r requirements.txt (line 9)) (6.29.5)\n",
      "Requirement already satisfied: python-dateutil>=2.8.2 in c:\\users\\cbr98\\appdata\\local\\programs\\python\\python313\\lib\\site-packages (from pandas<3.0,>=1.5->-r requirements.txt (line 2)) (2.9.0.post0)\n",
      "Requirement already satisfied: pytz>=2020.1 in c:\\users\\cbr98\\appdata\\local\\programs\\python\\python313\\lib\\site-packages (from pandas<3.0,>=1.5->-r requirements.txt (line 2)) (2024.2)\n",
      "Requirement already satisfied: tzdata>=2022.7 in c:\\users\\cbr98\\appdata\\local\\programs\\python\\python313\\lib\\site-packages (from pandas<3.0,>=1.5->-r requirements.txt (line 2)) (2024.2)\n",
      "Requirement already satisfied: scipy>=1.6.0 in c:\\users\\cbr98\\appdata\\local\\programs\\python\\python313\\lib\\site-packages (from scikit-learn<2.0,>=1.0->-r requirements.txt (line 4)) (1.14.1)\n",
      "Requirement already satisfied: joblib>=1.2.0 in c:\\users\\cbr98\\appdata\\local\\programs\\python\\python313\\lib\\site-packages (from scikit-learn<2.0,>=1.0->-r requirements.txt (line 4)) (1.4.2)\n",
      "Requirement already satisfied: threadpoolctl>=3.1.0 in c:\\users\\cbr98\\appdata\\local\\programs\\python\\python313\\lib\\site-packages (from scikit-learn<2.0,>=1.0->-r requirements.txt (line 4)) (3.5.0)\n",
      "Collecting sklearn-compat<1,>=0.1 (from imbalanced-learn<1.0,>=0.9->-r requirements.txt (line 6))\n",
      "  Downloading sklearn_compat-0.1.3-py3-none-any.whl.metadata (18 kB)\n",
      "Requirement already satisfied: contourpy>=1.0.1 in c:\\users\\cbr98\\appdata\\local\\programs\\python\\python313\\lib\\site-packages (from matplotlib<4.0,>=3.5->-r requirements.txt (line 7)) (1.3.0)\n",
      "Requirement already satisfied: cycler>=0.10 in c:\\users\\cbr98\\appdata\\local\\programs\\python\\python313\\lib\\site-packages (from matplotlib<4.0,>=3.5->-r requirements.txt (line 7)) (0.12.1)\n",
      "Requirement already satisfied: fonttools>=4.22.0 in c:\\users\\cbr98\\appdata\\local\\programs\\python\\python313\\lib\\site-packages (from matplotlib<4.0,>=3.5->-r requirements.txt (line 7)) (4.54.1)\n",
      "Requirement already satisfied: kiwisolver>=1.3.1 in c:\\users\\cbr98\\appdata\\local\\programs\\python\\python313\\lib\\site-packages (from matplotlib<4.0,>=3.5->-r requirements.txt (line 7)) (1.4.7)\n",
      "Requirement already satisfied: packaging>=20.0 in c:\\users\\cbr98\\appdata\\roaming\\python\\python313\\site-packages (from matplotlib<4.0,>=3.5->-r requirements.txt (line 7)) (24.1)\n",
      "Requirement already satisfied: pillow>=8 in c:\\users\\cbr98\\appdata\\local\\programs\\python\\python313\\lib\\site-packages (from matplotlib<4.0,>=3.5->-r requirements.txt (line 7)) (11.0.0)\n",
      "Requirement already satisfied: pyparsing>=2.3.1 in c:\\users\\cbr98\\appdata\\local\\programs\\python\\python313\\lib\\site-packages (from matplotlib<4.0,>=3.5->-r requirements.txt (line 7)) (3.2.0)\n",
      "Requirement already satisfied: comm>=0.1.1 in c:\\users\\cbr98\\appdata\\roaming\\python\\python313\\site-packages (from ipykernel->-r requirements.txt (line 9)) (0.2.2)\n",
      "Requirement already satisfied: debugpy>=1.6.5 in c:\\users\\cbr98\\appdata\\roaming\\python\\python313\\site-packages (from ipykernel->-r requirements.txt (line 9)) (1.8.7)\n",
      "Requirement already satisfied: ipython>=7.23.1 in c:\\users\\cbr98\\appdata\\roaming\\python\\python313\\site-packages (from ipykernel->-r requirements.txt (line 9)) (8.29.0)\n",
      "Requirement already satisfied: jupyter-client>=6.1.12 in c:\\users\\cbr98\\appdata\\roaming\\python\\python313\\site-packages (from ipykernel->-r requirements.txt (line 9)) (8.6.3)\n",
      "Requirement already satisfied: jupyter-core!=5.0.*,>=4.12 in c:\\users\\cbr98\\appdata\\roaming\\python\\python313\\site-packages (from ipykernel->-r requirements.txt (line 9)) (5.7.2)\n",
      "Requirement already satisfied: matplotlib-inline>=0.1 in c:\\users\\cbr98\\appdata\\roaming\\python\\python313\\site-packages (from ipykernel->-r requirements.txt (line 9)) (0.1.7)\n",
      "Requirement already satisfied: nest-asyncio in c:\\users\\cbr98\\appdata\\roaming\\python\\python313\\site-packages (from ipykernel->-r requirements.txt (line 9)) (1.6.0)\n",
      "Requirement already satisfied: psutil in c:\\users\\cbr98\\appdata\\roaming\\python\\python313\\site-packages (from ipykernel->-r requirements.txt (line 9)) (6.1.0)\n",
      "Requirement already satisfied: pyzmq>=24 in c:\\users\\cbr98\\appdata\\roaming\\python\\python313\\site-packages (from ipykernel->-r requirements.txt (line 9)) (26.2.0)\n",
      "Requirement already satisfied: tornado>=6.1 in c:\\users\\cbr98\\appdata\\roaming\\python\\python313\\site-packages (from ipykernel->-r requirements.txt (line 9)) (6.4.1)\n",
      "Requirement already satisfied: traitlets>=5.4.0 in c:\\users\\cbr98\\appdata\\roaming\\python\\python313\\site-packages (from ipykernel->-r requirements.txt (line 9)) (5.14.3)\n",
      "Requirement already satisfied: decorator in c:\\users\\cbr98\\appdata\\roaming\\python\\python313\\site-packages (from ipython>=7.23.1->ipykernel->-r requirements.txt (line 9)) (5.1.1)\n",
      "Requirement already satisfied: jedi>=0.16 in c:\\users\\cbr98\\appdata\\roaming\\python\\python313\\site-packages (from ipython>=7.23.1->ipykernel->-r requirements.txt (line 9)) (0.19.1)\n",
      "Requirement already satisfied: prompt-toolkit<3.1.0,>=3.0.41 in c:\\users\\cbr98\\appdata\\roaming\\python\\python313\\site-packages (from ipython>=7.23.1->ipykernel->-r requirements.txt (line 9)) (3.0.48)\n",
      "Requirement already satisfied: pygments>=2.4.0 in c:\\users\\cbr98\\appdata\\roaming\\python\\python313\\site-packages (from ipython>=7.23.1->ipykernel->-r requirements.txt (line 9)) (2.18.0)\n",
      "Requirement already satisfied: stack-data in c:\\users\\cbr98\\appdata\\roaming\\python\\python313\\site-packages (from ipython>=7.23.1->ipykernel->-r requirements.txt (line 9)) (0.6.3)\n",
      "Requirement already satisfied: colorama in c:\\users\\cbr98\\appdata\\roaming\\python\\python313\\site-packages (from ipython>=7.23.1->ipykernel->-r requirements.txt (line 9)) (0.4.6)\n",
      "Requirement already satisfied: platformdirs>=2.5 in c:\\users\\cbr98\\appdata\\roaming\\python\\python313\\site-packages (from jupyter-core!=5.0.*,>=4.12->ipykernel->-r requirements.txt (line 9)) (4.3.6)\n",
      "Requirement already satisfied: pywin32>=300 in c:\\users\\cbr98\\appdata\\roaming\\python\\python313\\site-packages (from jupyter-core!=5.0.*,>=4.12->ipykernel->-r requirements.txt (line 9)) (308)\n",
      "Requirement already satisfied: six>=1.5 in c:\\users\\cbr98\\appdata\\local\\programs\\python\\python313\\lib\\site-packages (from python-dateutil>=2.8.2->pandas<3.0,>=1.5->-r requirements.txt (line 2)) (1.16.0)\n",
      "Requirement already satisfied: parso<0.9.0,>=0.8.3 in c:\\users\\cbr98\\appdata\\roaming\\python\\python313\\site-packages (from jedi>=0.16->ipython>=7.23.1->ipykernel->-r requirements.txt (line 9)) (0.8.4)\n",
      "Requirement already satisfied: wcwidth in c:\\users\\cbr98\\appdata\\roaming\\python\\python313\\site-packages (from prompt-toolkit<3.1.0,>=3.0.41->ipython>=7.23.1->ipykernel->-r requirements.txt (line 9)) (0.2.13)\n",
      "Requirement already satisfied: executing>=1.2.0 in c:\\users\\cbr98\\appdata\\roaming\\python\\python313\\site-packages (from stack-data->ipython>=7.23.1->ipykernel->-r requirements.txt (line 9)) (2.1.0)\n",
      "Requirement already satisfied: asttokens>=2.1.0 in c:\\users\\cbr98\\appdata\\roaming\\python\\python313\\site-packages (from stack-data->ipython>=7.23.1->ipykernel->-r requirements.txt (line 9)) (2.4.1)\n",
      "Requirement already satisfied: pure-eval in c:\\users\\cbr98\\appdata\\roaming\\python\\python313\\site-packages (from stack-data->ipython>=7.23.1->ipykernel->-r requirements.txt (line 9)) (0.2.3)\n",
      "Downloading xgboost-2.1.4-py3-none-win_amd64.whl (124.9 MB)\n",
      "   ---------------------------------------- 0.0/124.9 MB ? eta -:--:--\n",
      "   ----- ---------------------------------- 18.6/124.9 MB 91.5 MB/s eta 0:00:02\n",
      "   ------------ -------------------------- 41.4/124.9 MB 100.0 MB/s eta 0:00:01\n",
      "   -------------------- ------------------ 65.0/124.9 MB 104.0 MB/s eta 0:00:01\n",
      "   --------------------------- ----------- 88.9/124.9 MB 105.4 MB/s eta 0:00:01\n",
      "   --------------------------------- ---- 111.4/124.9 MB 105.6 MB/s eta 0:00:01\n",
      "   -------------------------------------  124.8/124.9 MB 106.6 MB/s eta 0:00:01\n",
      "   --------------------------------------- 124.9/124.9 MB 97.4 MB/s eta 0:00:00\n",
      "Downloading imbalanced_learn-0.13.0-py3-none-any.whl (238 kB)\n",
      "Downloading sklearn_compat-0.1.3-py3-none-any.whl (18 kB)\n",
      "Installing collected packages: xgboost, sklearn-compat, imbalanced-learn\n",
      "Successfully installed imbalanced-learn-0.13.0 sklearn-compat-0.1.3 xgboost-2.1.4\n",
      "Note: you may need to restart the kernel to use updated packages.\n"
     ]
    },
    {
     "name": "stderr",
     "output_type": "stream",
     "text": [
      "\n",
      "[notice] A new release of pip is available: 24.2 -> 25.1.1\n",
      "[notice] To update, run: python.exe -m pip install --upgrade pip\n"
     ]
    }
   ],
   "source": [
    "%pip install -r requirements.txt"
   ]
  },
  {
   "cell_type": "markdown",
   "id": "a541981d",
   "metadata": {},
   "source": [
    "## 1. Setup"
   ]
  },
  {
   "cell_type": "code",
   "execution_count": 32,
   "id": "a15732d4",
   "metadata": {},
   "outputs": [],
   "source": [
    "import pandas as pd\n",
    "import numpy as np\n",
    "import os\n",
    "from sklearn.model_selection import train_test_split\n",
    "from sklearn.linear_model import LogisticRegression\n",
    "from sklearn.metrics import accuracy_score, precision_score, recall_score, f1_score, roc_auc_score, confusion_matrix\n",
    "from sklearn.impute import SimpleImputer"
   ]
  },
  {
   "cell_type": "markdown",
   "id": "8f015c11",
   "metadata": {},
   "source": [
    "## 2. Data Loading"
   ]
  },
  {
   "cell_type": "code",
   "execution_count": 41,
   "id": "b8f76b13",
   "metadata": {},
   "outputs": [],
   "source": [
    "def load_data(file_path):\n",
    "    \n",
    "    return pd.read_csv(file_path)\n",
    "df = load_data('data/synthetic_health_data.csv')"
   ]
  },
  {
   "cell_type": "markdown",
   "id": "db9151ee",
   "metadata": {},
   "source": [
    "## 3. Data Preparation"
   ]
  },
  {
   "cell_type": "code",
   "execution_count": 49,
   "id": "19806732",
   "metadata": {},
   "outputs": [],
   "source": [
    "def prepare_data_part1(df, test_size=0.2, random_state=42):\n",
    "    \n",
    "    x = df[['age', 'systolic_bp', 'diastolic_bp', 'glucose_level', 'bmi']]\n",
    "    y  = df['disease_outcome']\n",
    "    imputer = SimpleImputer(strategy='mean')\n",
    "    X_imputed = imputer.fit_transform(x)\n",
    "\n",
    "    X_train, X_test, y_train, y_test = train_test_split(X_imputed, y, test_size=test_size, random_state=random_state)\n",
    "\n",
    "    return X_train, X_test, y_train, y_test"
   ]
  },
  {
   "cell_type": "markdown",
   "id": "9c08ea3d",
   "metadata": {},
   "source": [
    "## 4. Model Training"
   ]
  },
  {
   "cell_type": "code",
   "execution_count": 50,
   "id": "e15618cd",
   "metadata": {},
   "outputs": [],
   "source": [
    "def train_logistic_regression(X_train, y_train):\n",
    "    model = LogisticRegression()\n",
    "    model.fit(X_train, y_train)\n",
    "    return model"
   ]
  },
  {
   "cell_type": "markdown",
   "id": "10d0606d",
   "metadata": {},
   "source": [
    "## 5. Model Evaluation"
   ]
  },
  {
   "cell_type": "code",
   "execution_count": 51,
   "id": "cd1f4bdf",
   "metadata": {},
   "outputs": [],
   "source": [
    "def calculate_evaluation_metrics(model, X_test, y_test):\n",
    "    y_pred = model.predict(X_test)\n",
    "    y_proba = model.predict_proba(X_test)[:, 1]\n",
    "    metric = dict()\n",
    "    metric['accuracy']  = accuracy_score(y_test, y_pred)\n",
    "    metric['precision'] = precision_score(y_test, y_pred)\n",
    "    metric['recall'] = recall_score(y_test, y_pred)\n",
    "    metric['f1'] = f1_score(y_test, y_pred)\n",
    "    metric['auc'] = roc_auc_score(y_test, y_proba)\n",
    "    metric['confusion_matrix'] = confusion_matrix(y_test, y_pred)\n",
    "    return metric"
   ]
  },
  {
   "cell_type": "code",
   "execution_count": 52,
   "id": "e3e1761f",
   "metadata": {},
   "outputs": [
    {
     "data": {
      "text/plain": [
       "{'accuracy': 0.9167803547066848,\n",
       " 'precision': np.float64(0.6615384615384615),\n",
       " 'recall': np.float64(0.3006993006993007),\n",
       " 'f1': np.float64(0.41346153846153844),\n",
       " 'auc': np.float64(0.9083614797900512),\n",
       " 'confusion_matrix': array([[1301,   22],\n",
       "        [ 100,   43]])}"
      ]
     },
     "execution_count": 52,
     "metadata": {},
     "output_type": "execute_result"
    }
   ],
   "source": [
    "X_train, X_test, y_train, y_test = prepare_data_part1(df)\n",
    "model = train_logistic_regression(X_train, y_train)\n",
    "metrics = calculate_evaluation_metrics(model, X_test, y_test)\n",
    "metrics"
   ]
  },
  {
   "cell_type": "markdown",
   "id": "1f72562f",
   "metadata": {},
   "source": [
    "## 6. Save Results"
   ]
  },
  {
   "cell_type": "code",
   "execution_count": 53,
   "id": "3143ef45",
   "metadata": {},
   "outputs": [],
   "source": [
    "def save_metrics_to_file(metrics):\n",
    "    os.makedirs('results', exist_ok=True)\n",
    "    filename = 'results.txt'\n",
    "    with open(filename, 'w') as f:\n",
    "        for k, v in metrics.items():\n",
    "            if k == 'confusion_matrix':\n",
    "                f.write(f\"{k}:\\n{v}\\n\")\n",
    "            else:\n",
    "                f.write(f\"{k}: {v:.4f}\\n\")"
   ]
  },
  {
   "cell_type": "markdown",
   "id": "75f9c407",
   "metadata": {},
   "source": [
    "## 7. Interpret Results"
   ]
  },
  {
   "cell_type": "code",
   "execution_count": 54,
   "id": "749ffdda",
   "metadata": {},
   "outputs": [],
   "source": [
    "def interpret_results(metrics):\n",
    "    best = max({k: v for k, v in metrics.items() if k != 'confusion_matrix'}, key=metrics.get)\n",
    "    worst = min({k: v for k, v in metrics.items() if k != 'confusion_matrix'}, key=metrics.get)\n",
    "\n",
    "    \n",
    "    imbalance = abs(metrics['accuracy'] - metrics['recall'] + metrics['accuracy'] - metrics['f1']) / 2\n",
    "    imbalance = min(1.0, round(imbalance, 3)) \n",
    "\n",
    "    return {\n",
    "        'best_metric': best,\n",
    "        'worst_metric': worst,\n",
    "        'imbalance_impact_score': imbalance\n",
    "    }"
   ]
  },
  {
   "cell_type": "markdown",
   "id": "a456c9d4",
   "metadata": {},
   "source": [
    "## 8. Main Execution"
   ]
  },
  {
   "cell_type": "code",
   "execution_count": 55,
   "id": "79edfaa4",
   "metadata": {},
   "outputs": [
    {
     "name": "stdout",
     "output_type": "stream",
     "text": [
      "accuracy: 0.9168\n",
      "precision: 0.6615\n",
      "recall: 0.3007\n",
      "f1: 0.4135\n",
      "auc: 0.9084\n",
      "\n",
      "Results Interpretation:\n",
      "best_metric: accuracy\n",
      "worst_metric: recall\n",
      "imbalance_impact_score: 0.56\n"
     ]
    }
   ],
   "source": [
    "# Main execution\n",
    "if __name__ == \"__main__\":\n",
    "    # 1. Load data\n",
    "    data_file = 'data/synthetic_health_data.csv'\n",
    "    df = load_data(data_file)\n",
    "    \n",
    "    # 2. Prepare data\n",
    "    X_train, X_test, y_train, y_test = prepare_data_part1(df)\n",
    "    \n",
    "    # 3. Train model\n",
    "    model = train_logistic_regression(X_train, y_train)\n",
    "    \n",
    "    # 4. Evaluate model\n",
    "    metrics = calculate_evaluation_metrics(model, X_test, y_test)\n",
    "    \n",
    "    # 5. Print metrics\n",
    "    for metric, value in metrics.items():\n",
    "        if metric != 'confusion_matrix':\n",
    "            print(f\"{metric}: {value:.4f}\")\n",
    "    \n",
    "    # 6. Save results\n",
    "    save_metrics_to_file(metrics)\n",
    "    \n",
    "    # 7. Interpret results\n",
    "    interpretation = interpret_results(metrics)\n",
    "    print(\"\\nResults Interpretation:\")\n",
    "    for key, value in interpretation.items():\n",
    "        print(f\"{key}: {value}\")\n"
   ]
  }
 ],
 "metadata": {
  "kernelspec": {
   "display_name": "Python 3",
   "language": "python",
   "name": "python3"
  },
  "language_info": {
   "codemirror_mode": {
    "name": "ipython",
    "version": 3
   },
   "file_extension": ".py",
   "mimetype": "text/x-python",
   "name": "python",
   "nbconvert_exporter": "python",
   "pygments_lexer": "ipython3",
   "version": "3.13.0"
  }
 },
 "nbformat": 4,
 "nbformat_minor": 5
}
