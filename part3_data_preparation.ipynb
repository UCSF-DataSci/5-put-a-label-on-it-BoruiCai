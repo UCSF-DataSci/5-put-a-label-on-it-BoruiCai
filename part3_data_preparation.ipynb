{
 "cells": [
  {
   "cell_type": "markdown",
   "id": "98821f6f",
   "metadata": {},
   "source": [
    "## 1. Setup"
   ]
  },
  {
   "cell_type": "code",
   "execution_count": 21,
   "id": "3adcad5d",
   "metadata": {},
   "outputs": [],
   "source": [
    "import pandas as pd\n",
    "import numpy as np\n",
    "import os\n",
    "from sklearn.model_selection import train_test_split\n",
    "from sklearn.preprocessing import OneHotEncoder\n",
    "from sklearn.linear_model import LogisticRegression\n",
    "from sklearn.metrics import accuracy_score, precision_score, recall_score, f1_score, roc_auc_score, confusion_matrix\n",
    "from sklearn.impute import SimpleImputer\n",
    "from imblearn.over_sampling import SMOTE"
   ]
  },
  {
   "cell_type": "markdown",
   "id": "92b9d3bf",
   "metadata": {},
   "source": [
    "## 2. Data Loading"
   ]
  },
  {
   "cell_type": "code",
   "execution_count": 22,
   "id": "e84c87ab",
   "metadata": {},
   "outputs": [],
   "source": [
    "def load_data(file_path):\n",
    "    return pd.read_csv(file_path)"
   ]
  },
  {
   "cell_type": "markdown",
   "id": "d938c438",
   "metadata": {},
   "source": [
    "## 3. Categorical Feature Encoding"
   ]
  },
  {
   "cell_type": "code",
   "execution_count": 23,
   "id": "a6ca1774",
   "metadata": {},
   "outputs": [],
   "source": [
    "def encode_categorical_features(df, column_to_encode='smoker_status'):\n",
    "\n",
    "    encoder = OneHotEncoder(sparse_output=False)  \n",
    "    cat_column = df[[column_to_encode]]\n",
    "    encoded = encoder.fit_transform(cat_column)\n",
    "\n",
    "    encoded_df = pd.DataFrame(encoded, columns=encoder.get_feature_names_out([column_to_encode]))\n",
    "\n",
    "    df = df.drop(columns=[column_to_encode]).reset_index(drop=True)\n",
    "    df_encoded = pd.concat([df, encoded_df], axis=1)\n",
    "\n",
    "    return df_encoded"
   ]
  },
  {
   "cell_type": "markdown",
   "id": "9887bc64",
   "metadata": {},
   "source": [
    "## 4. Data Preparation"
   ]
  },
  {
   "cell_type": "code",
   "execution_count": 24,
   "id": "9f6d82f1",
   "metadata": {},
   "outputs": [],
   "source": [
    "def prepare_data_part3(df, test_size=0.2, random_state=42):\n",
    "    df_cat = encode_categorical_features(df)\n",
    "    if 'timestamp' in df_cat.columns:\n",
    "        df_cat = df_cat.drop(columns=['timestamp'])\n",
    "\n",
    "    y = df_cat['disease_outcome']\n",
    "    x = df_cat.drop(columns=['disease_outcome'])\n",
    "\n",
    "    imputer = SimpleImputer(strategy='mean') \n",
    "    x_imputed = imputer.fit_transform(x)\n",
    "\n",
    "    X_train, X_test, y_train, y_test = train_test_split(\n",
    "        x_imputed, y, test_size=test_size, random_state=random_state\n",
    "    )\n",
    "    return X_train, X_test, y_train, y_test"
   ]
  },
  {
   "cell_type": "markdown",
   "id": "ffc58686",
   "metadata": {},
   "source": [
    "## 5. Handling Imbalanced Data"
   ]
  },
  {
   "cell_type": "code",
   "execution_count": 25,
   "id": "09d0ac3f",
   "metadata": {},
   "outputs": [],
   "source": [
    "def apply_smote(X_train, y_train, random_state=42):\n",
    "    smote = SMOTE(random_state=random_state)\n",
    "    X_train, y_train = smote.fit_resample(X_train, y_train)\n",
    "    return X_train, y_train"
   ]
  },
  {
   "cell_type": "markdown",
   "id": "f881eba8",
   "metadata": {},
   "source": [
    "## 6. Model Training and Evaluation"
   ]
  },
  {
   "cell_type": "code",
   "execution_count": 26,
   "id": "3a5140ca",
   "metadata": {},
   "outputs": [],
   "source": [
    "def train_logistic_regression(X_train, y_train):\n",
    "    log_model = LogisticRegression()\n",
    "    log_model.fit(X_train, y_train)\n",
    "    return log_model\n",
    "\n",
    "def calculate_evaluation_metrics(model, X_test, y_test):\n",
    "    y_pred = model.predict(X_test)\n",
    "    y_proba = model.predict_proba(X_test)[:, 1]\n",
    "    return {\n",
    "        'accuracy': accuracy_score(y_test, y_pred),\n",
    "        'precision': precision_score(y_test, y_pred),\n",
    "        'recall': recall_score(y_test, y_pred),\n",
    "        'f1': f1_score(y_test, y_pred),\n",
    "        'auc': roc_auc_score(y_test, y_proba),\n",
    "        'confusion_matrix': confusion_matrix(y_test, y_pred).tolist()  \n",
    "    }\n",
    "\n"
   ]
  },
  {
   "cell_type": "markdown",
   "id": "a110fd68",
   "metadata": {},
   "source": [
    "## 7. Save Results"
   ]
  },
  {
   "cell_type": "code",
   "execution_count": 27,
   "id": "6f660c6f",
   "metadata": {},
   "outputs": [],
   "source": [
    "def save_metrics_to_file(metrics, filename='results/results_part3.txt'):\n",
    "    os.makedirs('results', exist_ok=True)\n",
    "    with open(filename, 'w') as f:\n",
    "        for k, v in metrics.items():\n",
    "            if k == 'confusion_matrix':\n",
    "                f.write(f\"{k}:\\n{np.array(v)}\\n\")\n",
    "            else:\n",
    "                f.write(f\"{k}: {v:.4f}\\n\")"
   ]
  },
  {
   "cell_type": "code",
   "execution_count": 28,
   "id": "9397874f",
   "metadata": {},
   "outputs": [],
   "source": [
    "def compare_models(part1_metrics, part3_metrics):\n",
    "    improvements = {}\n",
    "    for metric in part1_metrics:\n",
    "        if metric != 'confusion_matrix':\n",
    "            old = part1_metrics[metric]\n",
    "            new = part3_metrics[metric]\n",
    "            if old != 0:\n",
    "                improvements[metric] = round((new - old) / old * 100, 2)\n",
    "            else:\n",
    "                improvements[metric] = float('inf')\n",
    "    return improvements"
   ]
  },
  {
   "cell_type": "code",
   "execution_count": 29,
   "id": "cf61a774",
   "metadata": {},
   "outputs": [
    {
     "name": "stdout",
     "output_type": "stream",
     "text": [
      "accuracy: 0.7879\n",
      "precision: 0.2961\n",
      "recall: 0.8531\n",
      "f1: 0.4396\n",
      "auc: 0.8784\n",
      "\n",
      "Model Comparison (improvement percentages):\n",
      "accuracy: -14.06%\n",
      "precision: -55.24%\n",
      "recall: 183.72%\n",
      "f1: 6.33%\n",
      "auc: -3.30%\n"
     ]
    },
    {
     "name": "stderr",
     "output_type": "stream",
     "text": [
      "c:\\Users\\cbr98\\AppData\\Local\\Programs\\Python\\Python313\\Lib\\site-packages\\sklearn\\linear_model\\_logistic.py:469: ConvergenceWarning: lbfgs failed to converge (status=1):\n",
      "STOP: TOTAL NO. of ITERATIONS REACHED LIMIT.\n",
      "\n",
      "Increase the number of iterations (max_iter) or scale the data as shown in:\n",
      "    https://scikit-learn.org/stable/modules/preprocessing.html\n",
      "Please also refer to the documentation for alternative solver options:\n",
      "    https://scikit-learn.org/stable/modules/linear_model.html#logistic-regression\n",
      "  n_iter_i = _check_optimize_result(\n"
     ]
    }
   ],
   "source": [
    "# Main execution\n",
    "if __name__ == \"__main__\":\n",
    "    # 1. Load data\n",
    "    data_file = 'data/synthetic_health_data.csv'\n",
    "    df = load_data(data_file)\n",
    "    \n",
    "    # 2. Prepare data with categorical encoding\n",
    "    X_train, X_test, y_train, y_test = prepare_data_part3(df)\n",
    "    \n",
    "    # 3. Apply SMOTE to balance the training data\n",
    "    X_train_resampled, y_train_resampled = apply_smote(X_train, y_train)\n",
    "    \n",
    "    # 4. Train model on resampled data\n",
    "    model = train_logistic_regression(X_train_resampled, y_train_resampled)\n",
    "    \n",
    "    # 5. Evaluate on original test set\n",
    "    metrics = calculate_evaluation_metrics(model, X_test, y_test)\n",
    "    \n",
    "    # 6. Print metrics\n",
    "    for metric, value in metrics.items():\n",
    "        if metric != 'confusion_matrix':\n",
    "            print(f\"{metric}: {value:.4f}\")\n",
    "    \n",
    "    # 7. Save results\n",
    "    save_metrics_to_file(metrics)\n",
    "    \n",
    "    # 8. Load Part 1 results for comparison\n",
    "    import json\n",
    "    try:\n",
    "        with open('results/results_part1.txt', 'r') as f:\n",
    "            part1_metrics = json.load(f)\n",
    "        \n",
    "        # 9. Compare models\n",
    "        comparison = compare_models(part1_metrics, metrics)\n",
    "        print(\"\\nModel Comparison (improvement percentages):\")\n",
    "        for metric, improvement in comparison.items():\n",
    "            print(f\"{metric}: {improvement:.2f}%\")\n",
    "    except FileNotFoundError:\n",
    "        print(\"Part 1 results not found. Run part1_introduction.ipynb first.\")"
   ]
  }
 ],
 "metadata": {
  "kernelspec": {
   "display_name": "Python 3",
   "language": "python",
   "name": "python3"
  },
  "language_info": {
   "codemirror_mode": {
    "name": "ipython",
    "version": 3
   },
   "file_extension": ".py",
   "mimetype": "text/x-python",
   "name": "python",
   "nbconvert_exporter": "python",
   "pygments_lexer": "ipython3",
   "version": "3.13.0"
  }
 },
 "nbformat": 4,
 "nbformat_minor": 5
}
